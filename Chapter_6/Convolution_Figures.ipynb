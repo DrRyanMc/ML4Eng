{
 "cells": [
  {
   "cell_type": "code",
   "execution_count": null,
   "metadata": {},
   "outputs": [],
   "source": [
    "\n",
    "from __future__ import absolute_import, division, print_function, unicode_literals\n",
    "import sys\n",
    "import numpy as np\n",
    "import matplotlib.pyplot as plt\n",
    "import sklearn\n",
    "import math\n",
    "\n",
    "import pickle\n",
    "import gzip\n",
    "import numpy as np\n",
    "import matplotlib.pyplot as plt\n",
    "import numpy as np\n",
    "import matplotlib.pyplot as plt\n",
    "%matplotlib inline\n",
    "import time\n",
    "import matplotlib\n",
    "import math\n",
    "import matplotlib.font_manager as fm\n",
    "import matplotlib.ticker as mtick\n",
    "font = fm.FontProperties()\n",
    "matplotlib.rcParams['pdf.fonttype'] = 42\n",
    "matplotlib.rcParams['ps.fonttype'] = 42\n",
    "def hide_spines(intx=False,inty=False,logscale=0):\n",
    "    \"\"\"Hides the top and rightmost axis spines from view for all active\n",
    "    figures and their respective axes.\"\"\"\n",
    "\n",
    "    # Retrieve a list of all current figures.\n",
    "    figures = [x for x in matplotlib._pylab_helpers.Gcf.get_all_fig_managers()]\n",
    "    if (plt.gca().get_legend()):\n",
    "        plt.setp(plt.gca().get_legend().get_texts(), fontproperties=font) \n",
    "    for figure in figures:\n",
    "        # Get all Axis instances related to the figure.\n",
    "        for ax in figure.canvas.figure.get_axes():\n",
    "            # Disable spines.\n",
    "            ax.spines['right'].set_color('none')\n",
    "            ax.spines['top'].set_color('none')\n",
    "            # Disable ticks.\n",
    "            ax.xaxis.set_ticks_position('bottom')\n",
    "            ax.yaxis.set_ticks_position('left')\n",
    "            #ax.xaxis.set_major_formatter(mtick.FuncFormatter(lambda v,_: (\"10$^{%d}$\" % math.log(v,10)) ))\n",
    "            for label in ax.get_xticklabels() :\n",
    "                label.set_fontproperties(font)\n",
    "            for label in ax.get_yminorticklabels() :\n",
    "                label.set_fontproperties(font)\n",
    "            for label in ax.get_ymajorticklabels() :\n",
    "                label.set_fontproperties(font)\n",
    "            #ax.set_xticklabels(ax.get_xticks(), fontproperties = font)\n",
    "            ax.set_xlabel(ax.get_xlabel(), fontproperties = font)\n",
    "            ax.set_ylabel(ax.get_ylabel(), fontproperties = font)\n",
    "            ax.set_title(ax.get_title(), fontproperties = font)\n",
    "            if (inty):\n",
    "                ax.yaxis.set_major_formatter(mtick.FormatStrFormatter('%d'))\n",
    "            if (intx):\n",
    "                ax.xaxis.set_major_formatter(mtick.FormatStrFormatter('%d'))\n",
    "            if (logscale):\n",
    "                ax.yaxis.set_major_formatter(mtick.FuncFormatter(lambda v,_: (\"10$^{%d}$\" % (math.log(v,10)) )))\n",
    "def show(nm,a=0,b=0,logscale=0):\n",
    "    hide_spines(a,b,logscale)\n",
    "    #ax.xaxis.set_major_formatter(mtick.FuncFormatter(lambda v,_: (\"10$^{%d}$\" % math.log(v,10)) ))\n",
    "    #plt.yticks([1,1e-2,1e-4,1e-6,1e-8,1e-10,1e-12], labels)\n",
    "    \n",
    "    plt.savefig(nm);\n",
    "    plt.show()\n",
    "plt.rcParams['axes.titlesize'] = 18\n",
    "plt.rcParams['axes.labelsize'] = 18\n",
    "plt.rcParams['xtick.labelsize'] = 18\n",
    "plt.rcParams['ytick.labelsize'] = 18\n",
    "#this line is only needed in iPython notebooks\n",
    "%matplotlib inline"
   ]
  },
  {
   "cell_type": "code",
   "execution_count": null,
   "metadata": {},
   "outputs": [],
   "source": [
    "import scipy.integrate as integrate\n",
    "def conv(f,g,t):\n",
    "    return integrate.quad(lambda tau:f(tau)*g(t-tau), t-10,t+10)"
   ]
  },
  {
   "cell_type": "code",
   "execution_count": null,
   "metadata": {},
   "outputs": [],
   "source": [
    "a = 2\n",
    "f = lambda x: np.sin(x) #np.sin(5*x+np.cos(x))*np.tanh(np.cos(x))\n",
    "sig = 100\n",
    "g = lambda x: np.exp(-x**2/(2*a**2))/math.sqrt(2*math.pi*a**2)\n",
    "Np = 1000\n",
    "ts = np.linspace(-6,6,Np)\n",
    "fg = np.zeros(Np)\n",
    "for t in range(Np):\n",
    "    fg[t] = conv(f,g,ts[t])[0]\n",
    "plt.plot(ts,f(ts))\n",
    "plt.plot(ts,g(ts))\n",
    "plt.show()\n",
    "plt.plot(ts,fg)"
   ]
  },
  {
   "cell_type": "code",
   "execution_count": null,
   "metadata": {},
   "outputs": [],
   "source": [
    "a = 2\n",
    "tri = lambda x: 1/(a**2)*(a-np.abs(x))*((a-np.abs(x)) >0)\n",
    "rect = lambda x: 1/(2*a)*(1.0*(x>-a) - 1.0*(x>a))\n",
    "import scipy.integrate\n",
    "x = np.linspace(-2*a,2*a,200)\n",
    "print(integrate.quad(rect,-a,a))\n",
    "print(integrate.quad(tri,-a,a))\n",
    "plt.plot(x,rect(x),label=\"$g_\\\\mathrm{rect}$\")\n",
    "plt.plot(x,tri(x),'--',label=\"$g_\\\\mathrm{tri}$\")\n",
    "a /= 2\n",
    "plt.plot(x,g(x),'--',label=\"$g_\\\\mathrm{Gauss}$\")\n",
    "plt.legend(loc='best')\n",
    "plt.xlabel(\"t\")\n",
    "plt.ylabel(\"g(t)\")\n",
    "show(\"g_funcs.pdf\")"
   ]
  },
  {
   "cell_type": "code",
   "execution_count": null,
   "metadata": {},
   "outputs": [],
   "source": [
    "a = 2\n",
    "signal = np.loadtxt(\"conv_data.npy\")\n",
    "print(signal.shape)"
   ]
  },
  {
   "cell_type": "code",
   "execution_count": null,
   "metadata": {},
   "outputs": [],
   "source": [
    "\n",
    "t = signal[:,0] - np.min(signal[:,0])\n",
    "import scipy.interpolate.interpolate as interpolate\n",
    "f = interpolate.interp1d(t,signal[:,1],fill_value=0, bounds_error=0)\n",
    "plt.plot(t,f(t))"
   ]
  },
  {
   "cell_type": "code",
   "execution_count": null,
   "metadata": {},
   "outputs": [],
   "source": [
    "fg = np.zeros(signal.shape[0])\n",
    "frect = fg*0\n",
    "ftri = fg*0\n",
    "for ts in range(fg.size):\n",
    "    a = 2\n",
    "    fg[ts] = conv(f,g,t[ts])[0]\n",
    "    a = 4\n",
    "    frect[ts] = conv(f,rect,t[ts])[0]\n",
    "    ftri[ts] = conv(f,tri,t[ts])[0]"
   ]
  },
  {
   "cell_type": "code",
   "execution_count": null,
   "metadata": {},
   "outputs": [],
   "source": [
    "plt.plot(t,f(t), label=\"original\")\n",
    "plt.plot(t,frect,label=\"$g_\\\\mathrm{rect}$\")\n",
    "plt.plot(t,ftri,'--',label=\"$g_\\\\mathrm{tri}$\")\n",
    "plt.plot(t,fg,linestyle=(0, (3, 5, 1, 5, 1, 5)),label=\"$g_\\\\mathrm{Gauss}$\") #,linestyle=(0, (3, 5, 1, 5, 1, 5))\n",
    "plt.legend(loc='best')\n",
    "plt.xlabel(\"t\")\n",
    "plt.ylabel(\"value\")\n",
    "show(\"conv_example.pdf\")"
   ]
  },
  {
   "cell_type": "code",
   "execution_count": null,
   "metadata": {},
   "outputs": [],
   "source": [
    "a = 2\n",
    "eps = 1.0e-6\n",
    "fdiff = np.zeros(signal.shape[0])\n",
    "fdiv = lambda t: (f(t-a) - f(t+a))/(2*a)\n",
    "plt.plot(t,f(t),'k:', label=\"original\")\n",
    "plt.plot(t,fdiv(t),label=\"$\\\\frac{d}{dt}(f * g_\\\\mathrm{rect})$\")\n",
    "plt.plot(t,(f(t-eps)-f(t+eps))/(2*eps),\"--\",label=\"$-\\\\frac{d}{dt}f$\")\n",
    "plt.legend(loc='best')\n",
    "plt.axis([1,99,-5,5])\n",
    "plt.xlabel(\"t\")\n",
    "plt.ylabel(\"value\")\n",
    "show(\"derivative.pdf\")"
   ]
  },
  {
   "cell_type": "code",
   "execution_count": null,
   "metadata": {},
   "outputs": [],
   "source": []
  }
 ],
 "metadata": {
  "kernelspec": {
   "display_name": "Python 3 (ipykernel)",
   "language": "python",
   "name": "python3"
  },
  "language_info": {
   "codemirror_mode": {
    "name": "ipython",
    "version": 3
   },
   "file_extension": ".py",
   "mimetype": "text/x-python",
   "name": "python",
   "nbconvert_exporter": "python",
   "pygments_lexer": "ipython3",
   "version": "3.8.8"
  }
 },
 "nbformat": 4,
 "nbformat_minor": 2
}
