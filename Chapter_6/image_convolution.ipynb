{
 "cells": [
  {
   "cell_type": "code",
   "execution_count": null,
   "metadata": {},
   "outputs": [],
   "source": [
    "import imageio\n",
    "import numpy as np\n",
    "import matplotlib.pyplot as plt\n",
    "%matplotlib inline\n",
    "import time\n",
    "import matplotlib\n",
    "import math\n",
    "import matplotlib.font_manager as fm\n",
    "import matplotlib.ticker as mtick\n",
    "font = fm.FontProperties(family = 'Gill Sans', fname = '/Library/Fonts/GillSans.ttc')\n",
    "matplotlib.rcParams['pdf.fonttype'] = 42\n",
    "matplotlib.rcParams['ps.fonttype'] = 42\n",
    "def hide_spines(intx=False,inty=False,logscale=0):\n",
    "    \"\"\"Hides the top and rightmost axis spines from view for all active\n",
    "    figures and their respective axes.\"\"\"\n",
    "\n",
    "    # Retrieve a list of all current figures.\n",
    "    figures = [x for x in matplotlib._pylab_helpers.Gcf.get_all_fig_managers()]\n",
    "    if (plt.gca().get_legend()):\n",
    "        plt.setp(plt.gca().get_legend().get_texts(), fontproperties=font) \n",
    "\n",
    "    plt.xticks([])\n",
    "    plt.yticks([])\n",
    "    for figure in figures:\n",
    "        # Get all Axis instances related to the figure.\n",
    "        for ax in figure.canvas.figure.get_axes():\n",
    "            # Disable spines.\n",
    "            #ax.spines['right'].set_color('none')\n",
    "            #ax.spines['top'].set_color('none')\n",
    "            # Disable ticks.\n",
    "            ax.xaxis.set_ticks_position('none')\n",
    "            ax.yaxis.set_ticks_position('none')\n",
    "            #ax.xaxis.set_major_formatter(mtick.FuncFormatter(lambda v,_: (\"10$^{%d}$\" % math.log(v,10)) ))\n",
    "            for label in ax.get_xticklabels() :\n",
    "                label.set_fontproperties(font)\n",
    "            for label in ax.get_yminorticklabels() :\n",
    "                label.set_fontproperties(font)\n",
    "            for label in ax.get_ymajorticklabels() :\n",
    "                label.set_fontproperties(font)\n",
    "            #ax.set_xticklabels(ax.get_xticks(), fontproperties = font)\n",
    "            ax.set_xlabel(ax.get_xlabel(), fontproperties = font)\n",
    "            ax.set_ylabel(ax.get_ylabel(), fontproperties = font)\n",
    "            ax.set_title(ax.get_title(), fontproperties = font)\n",
    "            if (inty):\n",
    "                ax.yaxis.set_major_formatter(mtick.FormatStrFormatter('%d'))\n",
    "            if (intx):\n",
    "                ax.xaxis.set_major_formatter(mtick.FormatStrFormatter('%d'))\n",
    "            if (logscale):\n",
    "                ax.yaxis.set_major_formatter(mtick.FuncFormatter(lambda v,_: (\"10$^{%d}$\" % (math.log(v,10)) )))\n",
    "def show(nm,a=0,b=0,logscale=0):\n",
    "    hide_spines(a,b,logscale)\n",
    "    #ax.xaxis.set_major_formatter(mtick.FuncFormatter(lambda v,_: (\"10$^{%d}$\" % math.log(v,10)) ))\n",
    "    #plt.yticks([1,1e-2,1e-4,1e-6,1e-8,1e-10,1e-12], labels)\n",
    "    \n",
    "    plt.savefig(nm);\n",
    "    plt.show()\n",
    "plt.rcParams['axes.titlesize'] = 18\n",
    "plt.rcParams['axes.labelsize'] = 18\n",
    "plt.rcParams['xtick.labelsize'] = 18\n",
    "plt.rcParams['ytick.labelsize'] = 18\n",
    "#this line is only needed in iPython notebooks\n",
    "%matplotlib inline"
   ]
  },
  {
   "cell_type": "code",
   "execution_count": null,
   "metadata": {},
   "outputs": [],
   "source": [
    "im = imageio.imread(\"cormac.png\")[:,:,0]\n",
    "print(im.shape)\n",
    "print(im[0:10,0:10])"
   ]
  },
  {
   "cell_type": "code",
   "execution_count": null,
   "metadata": {},
   "outputs": [],
   "source": [
    "fig=plt.figure(figsize=(10,10*768/1024))\n",
    "plt.imshow(im[:,:],cmap=plt.cm.gray)\n",
    "plt.xticks([])\n",
    "plt.yticks([])\n",
    "show(\"original.pdf\")"
   ]
  },
  {
   "cell_type": "code",
   "execution_count": null,
   "metadata": {},
   "outputs": [],
   "source": [
    "#blur\n",
    "im_blur = im/np.max(im.reshape(-1)) + np.random.normal(scale=0.025,size=im.shape)"
   ]
  },
  {
   "cell_type": "code",
   "execution_count": null,
   "metadata": {},
   "outputs": [],
   "source": [
    "fig=plt.figure(figsize=(10,10*768/1024))\n",
    "plt.imshow(im_blur[:,:],cmap=plt.cm.gray)\n",
    "plt.xticks([])\n",
    "plt.yticks([])\n",
    "show(\"original-blur.pdf\")"
   ]
  },
  {
   "cell_type": "code",
   "execution_count": null,
   "metadata": {},
   "outputs": [],
   "source": [
    "def lap(im):\n",
    "    G = np.ones((3,3))\n",
    "    G[1,1] = -8\n",
    "    print(G)\n",
    "    out = im*0\n",
    "    I,J = im.shape\n",
    "    for i in range(1,I-1):\n",
    "        for j in range(1,J-1):\n",
    "            out[i,j] = np.sum(np.sum(G*im[i-1:i+2,j-1:j+2]))\n",
    "                            \n",
    "    return out"
   ]
  },
  {
   "cell_type": "code",
   "execution_count": null,
   "metadata": {},
   "outputs": [],
   "source": [
    "im_lap = lap(im/np.max(im.reshape(-1)))"
   ]
  },
  {
   "cell_type": "code",
   "execution_count": null,
   "metadata": {},
   "outputs": [],
   "source": [
    "fig=plt.figure(figsize=(10,10*768/1024))\n",
    "plt.imshow(np.abs(im_lap[:,:])/np.max(im_lap.reshape(-1)),cmap=plt.cm.binary)\n",
    "plt.clim([0,1])\n",
    "#plt.colorbar()\n",
    "plt.xticks([])\n",
    "plt.yticks([])\n",
    "plt.gca().axes.get_xaxis().set_visible(False)\n",
    "plt.gca().axes.get_yaxis().set_visible(False)\n",
    "show(\"original-laplace.pdf\")"
   ]
  },
  {
   "cell_type": "code",
   "execution_count": null,
   "metadata": {},
   "outputs": [],
   "source": [
    "def mean(im,pts=3):   \n",
    "    G = np.ones((pts,pts))/pts/pts\n",
    "    out = im*0\n",
    "    I,J = im.shape\n",
    "    side_pts = (pts-1)//2\n",
    "    for i in range(side_pts,I-side_pts):\n",
    "        for j in range(side_pts,J-side_pts):\n",
    "            out[i,j] = np.sum(np.sum(G*im[i-side_pts:i+side_pts+1,j-side_pts:j+side_pts+1]))\n",
    "                            \n",
    "    return out"
   ]
  },
  {
   "cell_type": "code",
   "execution_count": null,
   "metadata": {},
   "outputs": [],
   "source": [
    "im_mean = mean(im_blur,pts=9)"
   ]
  },
  {
   "cell_type": "code",
   "execution_count": null,
   "metadata": {},
   "outputs": [],
   "source": [
    "fig=plt.figure(figsize=(10,10*768/1024))\n",
    "plt.imshow(im_mean,cmap=plt.cm.gray)\n",
    "\n",
    "plt.xticks([])\n",
    "plt.yticks([])\n",
    "show(\"mean-blur.pdf\")"
   ]
  },
  {
   "cell_type": "code",
   "execution_count": null,
   "metadata": {},
   "outputs": [],
   "source": [
    "im_lap_blur = lap(im_blur/np.max(im_blur.reshape(-1)))"
   ]
  },
  {
   "cell_type": "code",
   "execution_count": null,
   "metadata": {},
   "outputs": [],
   "source": [
    "fig=plt.figure(figsize=(10,10*768/1024))\n",
    "plt.imshow(np.abs(im_lap_blur[:,:])/np.max(im_lap_blur.reshape(-1)),cmap=plt.cm.binary)\n",
    "plt.clim([0,1])\n",
    "\n",
    "plt.xticks([])\n",
    "plt.yticks([])\n",
    "show(\"blur-laplace.pdf\")"
   ]
  },
  {
   "cell_type": "code",
   "execution_count": null,
   "metadata": {},
   "outputs": [],
   "source": [
    "im_mean_blur = mean(lap(im_blur/np.max(im_blur.reshape(-1))),pts=9)"
   ]
  },
  {
   "cell_type": "code",
   "execution_count": null,
   "metadata": {},
   "outputs": [],
   "source": [
    "fig=plt.figure(figsize=(10,10*768/1024))\n",
    "plt.imshow(np.abs(im_mean_blur[:,:])/np.max(im_mean_blur.reshape(-1)),cmap=plt.cm.binary)\n",
    "plt.clim([0,1])\n",
    "plt.xticks([])\n",
    "plt.yticks([])\n",
    "show(\"mean-blur-laplace.pdf\")\n"
   ]
  },
  {
   "cell_type": "code",
   "execution_count": null,
   "metadata": {},
   "outputs": [],
   "source": [
    "im_blur_mean = lap(mean(im_blur/np.max(im_blur.reshape(-1)),pts=9))"
   ]
  },
  {
   "cell_type": "code",
   "execution_count": null,
   "metadata": {},
   "outputs": [],
   "source": [
    "plt.imshow(np.abs(im_blur_mean[:,:])/np.max(im_blur_mean.reshape(-1))*2,cmap=plt.cm.binary)\n",
    "#plt.clim([0,1])"
   ]
  },
  {
   "cell_type": "code",
   "execution_count": null,
   "metadata": {},
   "outputs": [],
   "source": [
    "def max_pool(img,stride):\n",
    "    new_img = np.zeros((img.shape[0]//stride,img.shape[1]//stride))\n",
    "    Nx, Ny = new_img.shape\n",
    "    for k in range(Nx):\n",
    "        for l in range(Ny):\n",
    "            new_img[k,l] = np.max(np.max(img[k*stride:(k+1)*stride,l*stride:(l+1)*stride]))\n",
    "    return new_img"
   ]
  },
  {
   "cell_type": "code",
   "execution_count": null,
   "metadata": {},
   "outputs": [],
   "source": [
    "max_img = max_pool(im_lap,12)"
   ]
  },
  {
   "cell_type": "code",
   "execution_count": null,
   "metadata": {},
   "outputs": [],
   "source": [
    "fig=plt.figure(figsize=(10,10*768/1024))\n",
    "plt.imshow(np.abs(max_img[:,:])/np.max(max_img.reshape(-1)),cmap=plt.cm.binary)\n",
    "plt.clim([0,1])\n",
    "plt.xticks([])\n",
    "plt.yticks([])\n",
    "show(\"original_max.pdf\")"
   ]
  },
  {
   "cell_type": "code",
   "execution_count": null,
   "metadata": {},
   "outputs": [],
   "source": [
    "fig=plt.figure(figsize=(10,10*768/1024))\n",
    "max_img = max_pool(im_mean_blur,12)\n",
    "plt.imshow(np.abs(max_img[:,:])/np.max(max_img.reshape(-1)),cmap=plt.cm.binary)\n",
    "plt.clim([0,1])\n",
    "plt.xticks([])\n",
    "plt.yticks([])\n",
    "show(\"blur_mean_max.pdf\")"
   ]
  },
  {
   "cell_type": "code",
   "execution_count": null,
   "metadata": {},
   "outputs": [],
   "source": [
    "fig=plt.figure(figsize=(10,10*768/1024))\n",
    "max_img = max_pool(im_lap_blur,12)\n",
    "plt.imshow(np.abs(max_img[:,:])/np.max(max_img.reshape(-1)),cmap=plt.cm.binary)\n",
    "plt.clim([0,1])\n",
    "plt.xticks([])\n",
    "plt.yticks([])\n",
    "show(\"blur_lap_max.pdf\")"
   ]
  },
  {
   "cell_type": "code",
   "execution_count": null,
   "metadata": {},
   "outputs": [],
   "source": [
    "dt = np.zeros((11,11)) \n",
    "for i in range(1,10):\n",
    "    for j in range(1,10):\n",
    "        dt[i,j] = np.int(2*np.cos(i+j))\n",
    "#dt[1:10,1:10] = np.linspace(1,9*9,81).reshape((9,9))\n",
    "print(dt)"
   ]
  },
  {
   "cell_type": "code",
   "execution_count": null,
   "metadata": {},
   "outputs": [],
   "source": [
    "mean(dt)*9"
   ]
  },
  {
   "cell_type": "code",
   "execution_count": null,
   "metadata": {},
   "outputs": [],
   "source": []
  },
  {
   "cell_type": "code",
   "execution_count": null,
   "metadata": {},
   "outputs": [],
   "source": []
  }
 ],
 "metadata": {
  "kernelspec": {
   "display_name": "Python 3 (ipykernel)",
   "language": "python",
   "name": "python3"
  },
  "language_info": {
   "codemirror_mode": {
    "name": "ipython",
    "version": 3
   },
   "file_extension": ".py",
   "mimetype": "text/x-python",
   "name": "python",
   "nbconvert_exporter": "python",
   "pygments_lexer": "ipython3",
   "version": "3.8.8"
  }
 },
 "nbformat": 4,
 "nbformat_minor": 2
}
