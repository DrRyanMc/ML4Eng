{
 "cells": [
  {
   "cell_type": "code",
   "execution_count": 1,
   "metadata": {
    "collapsed": true
   },
   "outputs": [],
   "source": [
    "import numpy as np\n",
    "import matplotlib.pyplot as plt"
   ]
  },
  {
   "cell_type": "code",
   "execution_count": 110,
   "metadata": {},
   "outputs": [
    {
     "data": {
      "text/plain": [
       "'\\\\begin{pmatrix}\\\\  1.46 & 2.3 & 1.9 & 1.6 & 1.43 & 2.35 & 2.42 & 2.08\\\\\\\\end{pmatrix}'"
      ]
     },
     "execution_count": 110,
     "metadata": {},
     "output_type": "execute_result"
    }
   ],
   "source": [
    "h = np.array([10.1,25.7,17.5,12.3,9.8,26.7,28.4,21.0])\n",
    "v0 = 0.01\n",
    "g = 9.81\n",
    "h0 = 0.3\n",
    "t = -v0/g+ np.sqrt(2*g*(h+h0)+v0**2)/g\n",
    "t += + np.random.normal(loc=0,scale=.0001*np.mean(t),size=8)\n",
    "bmatrix(np.round(np.transpose(t),2))"
   ]
  },
  {
   "cell_type": "code",
   "execution_count": 111,
   "metadata": {
    "collapsed": true
   },
   "outputs": [],
   "source": [
    "def bmatrix(a):\n",
    "    \"\"\"Returns a LaTeX bmatrix\n",
    "\n",
    "    :a: numpy array\n",
    "    :returns: LaTeX bmatrix as a string\n",
    "    \"\"\"\n",
    "    if len(a.shape) > 2:\n",
    "        raise ValueError('bmatrix can at most display two dimensions')\n",
    "    lines = str(a).replace('[', '').replace(']', '').splitlines()\n",
    "    rv = [r'\\begin{pmatrix}']\n",
    "    rv += ['  ' + ' & '.join(l.split()) for l in lines]\n",
    "    rv +=  [r'\\end{pmatrix}']\n",
    "    return '\\\\'.join(rv)"
   ]
  },
  {
   "cell_type": "code",
   "execution_count": 112,
   "metadata": {},
   "outputs": [
    {
     "data": {
      "text/plain": [
       "'\\\\begin{pmatrix}\\\\  1. & 1.46 & 2.12\\\\  1. & 2.3 & 5.3\\\\  1. & 1.9 & 3.62\\\\  1. & 1.6 & 2.56\\\\  1. & 1.43 & 2.06\\\\  1. & 2.35 & 5.5\\\\  1. & 2.42 & 5.85\\\\  1. & 2.08 & 4.34\\\\\\\\end{pmatrix}'"
      ]
     },
     "execution_count": 112,
     "metadata": {},
     "output_type": "execute_result"
    }
   ],
   "source": [
    "X = np.ones((8,3))\n",
    "X[:,1] = t\n",
    "X[:,2] = t**2\n",
    "bmatrix(np.round(X,2))"
   ]
  },
  {
   "cell_type": "code",
   "execution_count": 113,
   "metadata": {},
   "outputs": [
    {
     "data": {
      "text/plain": [
       "'\\\\begin{pmatrix}\\\\  8. & 15.54 & 31.35\\\\  15.54 & 31.35 & 65.3\\\\  31.35 & 65.3 & 139.74\\\\\\\\end{pmatrix}'"
      ]
     },
     "execution_count": 113,
     "metadata": {},
     "output_type": "execute_result"
    }
   ],
   "source": [
    "xtx = np.dot(np.transpose(X),X)\n",
    "bmatrix(np.round(xtx,2))"
   ]
  },
  {
   "cell_type": "code",
   "execution_count": 114,
   "metadata": {},
   "outputs": [
    {
     "data": {
      "text/plain": [
       "'\\\\begin{pmatrix}\\\\  151.5 & 315.94 & 676.64\\\\\\\\end{pmatrix}'"
      ]
     },
     "execution_count": 114,
     "metadata": {},
     "output_type": "execute_result"
    }
   ],
   "source": [
    "xty = np.dot(np.transpose(X),h)\n",
    "bmatrix(np.round(xty,2))"
   ]
  },
  {
   "cell_type": "code",
   "execution_count": 118,
   "metadata": {},
   "outputs": [
    {
     "name": "stdout",
     "output_type": "stream",
     "text": [
      "[-0.30071811  0.00954155  4.90523463]\n"
     ]
    }
   ],
   "source": [
    "ans=np.linalg.solve(xtx,xty)\n",
    "print(ans)"
   ]
  },
  {
   "cell_type": "code",
   "execution_count": 119,
   "metadata": {},
   "outputs": [
    {
     "data": {
      "text/plain": [
       "9.810469258337486"
      ]
     },
     "execution_count": 119,
     "metadata": {},
     "output_type": "execute_result"
    }
   ],
   "source": [
    "ans[2]*2"
   ]
  },
  {
   "cell_type": "code",
   "execution_count": null,
   "metadata": {
    "collapsed": true
   },
   "outputs": [],
   "source": []
  }
 ],
 "metadata": {
  "kernelspec": {
   "display_name": "Python 3",
   "language": "python",
   "name": "python3"
  },
  "language_info": {
   "codemirror_mode": {
    "name": "ipython",
    "version": 3
   },
   "file_extension": ".py",
   "mimetype": "text/x-python",
   "name": "python",
   "nbconvert_exporter": "python",
   "pygments_lexer": "ipython3",
   "version": "3.6.1"
  }
 },
 "nbformat": 4,
 "nbformat_minor": 2
}
